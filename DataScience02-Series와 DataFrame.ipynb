{
 "cells": [
  {
   "cell_type": "code",
   "execution_count": 1,
   "id": "a49b3a6b",
   "metadata": {},
   "outputs": [
    {
     "name": "stdout",
     "output_type": "stream",
     "text": [
      "0    홍길동\n",
      "1     28\n",
      "dtype: object object\n"
     ]
    }
   ],
   "source": [
    "#Series: 단일형식의 1차원 데이터\n",
    "import pandas as pd\n",
    "s=pd.Series ([\"홍길동\",28]) \n",
    "# object, int64 -> 데이터 타입이 다를 경우 하나로 통일 \n",
    "#object가 포함되어 있으면 object로 변환 \n",
    "print(s,s.dtype)"
   ]
  },
  {
   "cell_type": "code",
   "execution_count": 2,
   "id": "9e7fef06",
   "metadata": {},
   "outputs": [
    {
     "name": "stdout",
     "output_type": "stream",
     "text": [
      "Name    홍길동\n",
      "Age      28\n",
      "dtype: object\n"
     ]
    }
   ],
   "source": [
    "s2=pd.Series(['홍길동',28], index=[\"Name\",\"Age\"]) #명시적으로 인덱스를 부여할 때\n",
    "print(s2)"
   ]
  },
  {
   "cell_type": "code",
   "execution_count": 3,
   "id": "c4a2ce24",
   "metadata": {},
   "outputs": [
    {
     "name": "stdout",
     "output_type": "stream",
     "text": [
      "0    홍길동\n",
      "1     28\n",
      "dtype: object\n",
      "s의 인덱스: RangeIndex(start=0, stop=2, step=1)\n",
      "Name    홍길동\n",
      "Age      28\n",
      "dtype: object\n"
     ]
    }
   ],
   "source": [
    "#이미 만들어진 Series에 index를 부여하고자 할때, \n",
    "print(s)\n",
    "print(\"s의 인덱스:\",s.index)\n",
    "s.index=[\"Name\",\"Age\"]\n",
    "print(s)"
   ]
  },
  {
   "cell_type": "code",
   "execution_count": 4,
   "id": "db17d539",
   "metadata": {},
   "outputs": [
    {
     "name": "stdout",
     "output_type": "stream",
     "text": [
      "홍길동 28\n",
      "홍길동 28\n",
      "홍길동 28\n"
     ]
    }
   ],
   "source": [
    "#인덱스에 접근하는 방법\n",
    "print(s['Name'],s['Age']) #인덱스 접근\n",
    "print(s[0],s[1]) #순서를 이용힌 접근\n",
    "print(s[-2],s[-1])#역인덱싱도 가능함 "
   ]
  },
  {
   "cell_type": "code",
   "execution_count": 5,
   "id": "1730c3cc",
   "metadata": {},
   "outputs": [
    {
     "data": {
      "text/plain": [
       "count      5.000000\n",
       "mean      82.000000\n",
       "std       13.509256\n",
       "min       65.000000\n",
       "25%       75.000000\n",
       "50%       80.000000\n",
       "75%       90.000000\n",
       "max      100.000000\n",
       "dtype: float64"
      ]
     },
     "execution_count": 5,
     "metadata": {},
     "output_type": "execute_result"
    }
   ],
   "source": [
    "scores=[80,75,90,100,65] #데이터 리스트\n",
    "scores_s=pd.Series(scores) #시리즈를 생성 (인자로 데이터의 리스트 전달)\n",
    "\n",
    "#기초 통계량의 확인\n",
    "scores_s.describe()"
   ]
  },
  {
   "cell_type": "code",
   "execution_count": 6,
   "id": "fe95dec9",
   "metadata": {},
   "outputs": [
    {
     "name": "stdout",
     "output_type": "stream",
     "text": [
      "최소값, 최대값: 65 100\n",
      "산술평균, 중앙값: 82.0 80.0\n",
      "표준변차: 13.509256086106296\n",
      "포함여부: 0    False\n",
      "1    False\n",
      "2    False\n",
      "3     True\n",
      "4    False\n",
      "dtype: bool\n"
     ]
    }
   ],
   "source": [
    "#기초 통계(량 함수\n",
    "print(\"최소값, 최대값:\", scores_s.min(),scores_s.max())\n",
    "print(\"산술평균, 중앙값:\",scores_s.mean(),scores_s.median())\n",
    "print(\"표준변차:\",scores_s.std())\n",
    "print(\"포함여부:\",scores_s.isin([100]))"
   ]
  },
  {
   "cell_type": "code",
   "execution_count": 7,
   "id": "e68ea19f",
   "metadata": {
    "scrolled": true
   },
   "outputs": [
    {
     "name": "stdout",
     "output_type": "stream",
     "text": [
      "s3:\n",
      " 0     1\n",
      "1     5\n",
      "2     8\n",
      "3     4\n",
      "4     6\n",
      "5     1\n",
      "6    10\n",
      "dtype: int64\n",
      "s3*2\n",
      " 0     2\n",
      "1    10\n",
      "2    16\n",
      "3     8\n",
      "4    12\n",
      "5     2\n",
      "6    20\n",
      "dtype: int64\n",
      "s3+s4\n",
      " 0     2\n",
      "1     7\n",
      "2    11\n",
      "3     8\n",
      "4    11\n",
      "5     7\n",
      "6    17\n",
      "dtype: int64\n"
     ]
    }
   ],
   "source": [
    "#시리즈의 연산\n",
    "s3=pd.Series([1,5,8,4,6,1,10])\n",
    "print(\"s3:\\n\",s3)\n",
    "#시리즈와 스칼라의 연산 \n",
    "print('s3*2\\n',s3*2) #브로드캐스팅\n",
    "#시리즈와 시리즈의 연산\n",
    "s4=pd.Series([1,2,3,4,5,6,7])\n",
    "print('s3+s4\\n',s3+s4)"
   ]
  },
  {
   "cell_type": "code",
   "execution_count": 8,
   "id": "31d4eaa7",
   "metadata": {},
   "outputs": [
    {
     "name": "stdout",
     "output_type": "stream",
     "text": [
      "s4\n",
      " 0    1\n",
      "1    2\n",
      "2    3\n",
      "3    4\n",
      "4    5\n",
      "5    6\n",
      "6    7\n",
      "dtype: int64\n",
      "s5\n",
      " 0     1\n",
      "1     4\n",
      "2     9\n",
      "3    16\n",
      "4    25\n",
      "5    36\n",
      "6    49\n",
      "dtype: int64\n"
     ]
    }
   ],
   "source": [
    "#시리즈의 각 요소 (항목)에 같은 함수를 일괄 적용: apply\n",
    "print(\"s4\\n\",s4)\n",
    "s5=s4.apply(lambda x: x**2)\n",
    "print(\"s5\\n\",s5)"
   ]
  },
  {
   "cell_type": "code",
   "execution_count": 9,
   "id": "66080530",
   "metadata": {},
   "outputs": [
    {
     "data": {
      "text/html": [
       "<div>\n",
       "<style scoped>\n",
       "    .dataframe tbody tr th:only-of-type {\n",
       "        vertical-align: middle;\n",
       "    }\n",
       "\n",
       "    .dataframe tbody tr th {\n",
       "        vertical-align: top;\n",
       "    }\n",
       "\n",
       "    .dataframe thead th {\n",
       "        text-align: right;\n",
       "    }\n",
       "</style>\n",
       "<table border=\"1\" class=\"dataframe\">\n",
       "  <thead>\n",
       "    <tr style=\"text-align: right;\">\n",
       "      <th></th>\n",
       "      <th>KOR</th>\n",
       "      <th>ENG</th>\n",
       "      <th>MATH</th>\n",
       "    </tr>\n",
       "  </thead>\n",
       "  <tbody>\n",
       "    <tr>\n",
       "      <th>A</th>\n",
       "      <td>80</td>\n",
       "      <td>90</td>\n",
       "      <td>80</td>\n",
       "    </tr>\n",
       "    <tr>\n",
       "      <th>B</th>\n",
       "      <td>90</td>\n",
       "      <td>80</td>\n",
       "      <td>90</td>\n",
       "    </tr>\n",
       "    <tr>\n",
       "      <th>C</th>\n",
       "      <td>75</td>\n",
       "      <td>70</td>\n",
       "      <td>85</td>\n",
       "    </tr>\n",
       "  </tbody>\n",
       "</table>\n",
       "</div>"
      ],
      "text/plain": [
       "   KOR  ENG  MATH\n",
       "A   80   90    80\n",
       "B   90   80    90\n",
       "C   75   70    85"
      ]
     },
     "execution_count": 9,
     "metadata": {},
     "output_type": "execute_result"
    }
   ],
   "source": [
    "#DataFrame: 여러개의 Series(column)이 연결된 2차원 테이블 형태의 데이터\n",
    "#생성: dict로 데이터를 입력\n",
    "scores_df=pd.DataFrame({\n",
    "    \"KOR\":[80,90,75],\n",
    "    \"ENG\":[90,80,70],\n",
    "    \"MATH\":[80,90,85]\n",
    "},index=['A','B','C'])\n",
    "scores_df"
   ]
  },
  {
   "cell_type": "code",
   "execution_count": 10,
   "id": "d3dd8adf",
   "metadata": {},
   "outputs": [
    {
     "data": {
      "text/html": [
       "<div>\n",
       "<style scoped>\n",
       "    .dataframe tbody tr th:only-of-type {\n",
       "        vertical-align: middle;\n",
       "    }\n",
       "\n",
       "    .dataframe tbody tr th {\n",
       "        vertical-align: top;\n",
       "    }\n",
       "\n",
       "    .dataframe thead th {\n",
       "        text-align: right;\n",
       "    }\n",
       "</style>\n",
       "<table border=\"1\" class=\"dataframe\">\n",
       "  <thead>\n",
       "    <tr style=\"text-align: right;\">\n",
       "      <th></th>\n",
       "      <th>KOR</th>\n",
       "      <th>ENG</th>\n",
       "      <th>MATH</th>\n",
       "    </tr>\n",
       "  </thead>\n",
       "  <tbody>\n",
       "    <tr>\n",
       "      <th>홍길동</th>\n",
       "      <td>80</td>\n",
       "      <td>90</td>\n",
       "      <td>80</td>\n",
       "    </tr>\n",
       "    <tr>\n",
       "      <th>임꺽정</th>\n",
       "      <td>90</td>\n",
       "      <td>80</td>\n",
       "      <td>90</td>\n",
       "    </tr>\n",
       "    <tr>\n",
       "      <th>장길산</th>\n",
       "      <td>75</td>\n",
       "      <td>70</td>\n",
       "      <td>85</td>\n",
       "    </tr>\n",
       "  </tbody>\n",
       "</table>\n",
       "</div>"
      ],
      "text/plain": [
       "     KOR  ENG  MATH\n",
       "홍길동   80   90    80\n",
       "임꺽정   90   80    90\n",
       "장길산   75   70    85"
      ]
     },
     "execution_count": 10,
     "metadata": {},
     "output_type": "execute_result"
    }
   ],
   "source": [
    "#이미 생성된 데이터 프레임에 인덱스 부여\n",
    "scores_df.index=['홍길동','임꺽정','장길산']\n",
    "scores_df"
   ]
  },
  {
   "cell_type": "code",
   "execution_count": 11,
   "id": "b5a3603f",
   "metadata": {},
   "outputs": [
    {
     "data": {
      "text/html": [
       "<div>\n",
       "<style scoped>\n",
       "    .dataframe tbody tr th:only-of-type {\n",
       "        vertical-align: middle;\n",
       "    }\n",
       "\n",
       "    .dataframe tbody tr th {\n",
       "        vertical-align: top;\n",
       "    }\n",
       "\n",
       "    .dataframe thead th {\n",
       "        text-align: right;\n",
       "    }\n",
       "</style>\n",
       "<table border=\"1\" class=\"dataframe\">\n",
       "  <thead>\n",
       "    <tr style=\"text-align: right;\">\n",
       "      <th></th>\n",
       "      <th>KOR</th>\n",
       "      <th>ENG</th>\n",
       "      <th>MATH</th>\n",
       "      <th>TOTAL</th>\n",
       "    </tr>\n",
       "  </thead>\n",
       "  <tbody>\n",
       "    <tr>\n",
       "      <th>홍길동</th>\n",
       "      <td>80</td>\n",
       "      <td>90</td>\n",
       "      <td>80</td>\n",
       "      <td>250</td>\n",
       "    </tr>\n",
       "    <tr>\n",
       "      <th>임꺽정</th>\n",
       "      <td>90</td>\n",
       "      <td>80</td>\n",
       "      <td>90</td>\n",
       "      <td>260</td>\n",
       "    </tr>\n",
       "    <tr>\n",
       "      <th>장길산</th>\n",
       "      <td>75</td>\n",
       "      <td>70</td>\n",
       "      <td>85</td>\n",
       "      <td>230</td>\n",
       "    </tr>\n",
       "  </tbody>\n",
       "</table>\n",
       "</div>"
      ],
      "text/plain": [
       "     KOR  ENG  MATH  TOTAL\n",
       "홍길동   80   90    80    250\n",
       "임꺽정   90   80    90    260\n",
       "장길산   75   70    85    230"
      ]
     },
     "execution_count": 11,
     "metadata": {},
     "output_type": "execute_result"
    }
   ],
   "source": [
    "#변수의 파생: 이미 있는 변수(column)을 기반으로 새로운 변수(column)을 생성\n",
    "#모든 학생의 국어, 영어, 수학 점수 총점을 변수로 생성 \n",
    "scores_df['TOTAL']=scores_df['KOR']+scores_df[\"ENG\"]+scores_df['MATH']\n",
    "scores_df"
   ]
  },
  {
   "cell_type": "code",
   "execution_count": 12,
   "id": "e5e6fd90",
   "metadata": {
    "scrolled": true
   },
   "outputs": [
    {
     "data": {
      "text/html": [
       "<div>\n",
       "<style scoped>\n",
       "    .dataframe tbody tr th:only-of-type {\n",
       "        vertical-align: middle;\n",
       "    }\n",
       "\n",
       "    .dataframe tbody tr th {\n",
       "        vertical-align: top;\n",
       "    }\n",
       "\n",
       "    .dataframe thead th {\n",
       "        text-align: right;\n",
       "    }\n",
       "</style>\n",
       "<table border=\"1\" class=\"dataframe\">\n",
       "  <thead>\n",
       "    <tr style=\"text-align: right;\">\n",
       "      <th></th>\n",
       "      <th>KOR</th>\n",
       "      <th>ENG</th>\n",
       "      <th>MATH</th>\n",
       "      <th>TOTAL</th>\n",
       "      <th>AVERAGE</th>\n",
       "    </tr>\n",
       "  </thead>\n",
       "  <tbody>\n",
       "    <tr>\n",
       "      <th>홍길동</th>\n",
       "      <td>80</td>\n",
       "      <td>90</td>\n",
       "      <td>80</td>\n",
       "      <td>250</td>\n",
       "      <td>83.333333</td>\n",
       "    </tr>\n",
       "    <tr>\n",
       "      <th>임꺽정</th>\n",
       "      <td>90</td>\n",
       "      <td>80</td>\n",
       "      <td>90</td>\n",
       "      <td>260</td>\n",
       "      <td>86.666667</td>\n",
       "    </tr>\n",
       "    <tr>\n",
       "      <th>장길산</th>\n",
       "      <td>75</td>\n",
       "      <td>70</td>\n",
       "      <td>85</td>\n",
       "      <td>230</td>\n",
       "      <td>76.666667</td>\n",
       "    </tr>\n",
       "  </tbody>\n",
       "</table>\n",
       "</div>"
      ],
      "text/plain": [
       "     KOR  ENG  MATH  TOTAL    AVERAGE\n",
       "홍길동   80   90    80    250  83.333333\n",
       "임꺽정   90   80    90    260  86.666667\n",
       "장길산   75   70    85    230  76.666667"
      ]
     },
     "execution_count": 12,
     "metadata": {},
     "output_type": "execute_result"
    }
   ],
   "source": [
    "#Average 변수 파생 \n",
    "scores_df['AVERAGE']=scores_df['TOTAL']/3\n",
    "scores_df"
   ]
  },
  {
   "cell_type": "code",
   "execution_count": 13,
   "id": "e71fa12e",
   "metadata": {},
   "outputs": [
    {
     "data": {
      "text/html": [
       "<div>\n",
       "<style scoped>\n",
       "    .dataframe tbody tr th:only-of-type {\n",
       "        vertical-align: middle;\n",
       "    }\n",
       "\n",
       "    .dataframe tbody tr th {\n",
       "        vertical-align: top;\n",
       "    }\n",
       "\n",
       "    .dataframe thead th {\n",
       "        text-align: right;\n",
       "    }\n",
       "</style>\n",
       "<table border=\"1\" class=\"dataframe\">\n",
       "  <thead>\n",
       "    <tr style=\"text-align: right;\">\n",
       "      <th></th>\n",
       "      <th>KOR</th>\n",
       "      <th>ENG</th>\n",
       "      <th>MATH</th>\n",
       "      <th>TOTAL</th>\n",
       "      <th>AVERAGE</th>\n",
       "    </tr>\n",
       "  </thead>\n",
       "  <tbody>\n",
       "    <tr>\n",
       "      <th>홍길동</th>\n",
       "      <td>80</td>\n",
       "      <td>90</td>\n",
       "      <td>80</td>\n",
       "      <td>250</td>\n",
       "      <td>83.333333</td>\n",
       "    </tr>\n",
       "    <tr>\n",
       "      <th>장길산</th>\n",
       "      <td>75</td>\n",
       "      <td>70</td>\n",
       "      <td>85</td>\n",
       "      <td>230</td>\n",
       "      <td>76.666667</td>\n",
       "    </tr>\n",
       "  </tbody>\n",
       "</table>\n",
       "</div>"
      ],
      "text/plain": [
       "     KOR  ENG  MATH  TOTAL    AVERAGE\n",
       "홍길동   80   90    80    250  83.333333\n",
       "장길산   75   70    85    230  76.666667"
      ]
     },
     "execution_count": 13,
     "metadata": {},
     "output_type": "execute_result"
    }
   ],
   "source": [
    "scores_df[[True,False,True]]"
   ]
  },
  {
   "cell_type": "code",
   "execution_count": 14,
   "id": "26c58b4a",
   "metadata": {},
   "outputs": [
    {
     "data": {
      "text/plain": [
       "홍길동     True\n",
       "임꺽정     True\n",
       "장길산    False\n",
       "Name: AVERAGE, dtype: bool"
      ]
     },
     "execution_count": 14,
     "metadata": {},
     "output_type": "execute_result"
    }
   ],
   "source": [
    "cond=scores_df['AVERAGE']>=80\n",
    "cond"
   ]
  },
  {
   "cell_type": "code",
   "execution_count": 15,
   "id": "4ae98b93",
   "metadata": {},
   "outputs": [
    {
     "data": {
      "text/html": [
       "<div>\n",
       "<style scoped>\n",
       "    .dataframe tbody tr th:only-of-type {\n",
       "        vertical-align: middle;\n",
       "    }\n",
       "\n",
       "    .dataframe tbody tr th {\n",
       "        vertical-align: top;\n",
       "    }\n",
       "\n",
       "    .dataframe thead th {\n",
       "        text-align: right;\n",
       "    }\n",
       "</style>\n",
       "<table border=\"1\" class=\"dataframe\">\n",
       "  <thead>\n",
       "    <tr style=\"text-align: right;\">\n",
       "      <th></th>\n",
       "      <th>KOR</th>\n",
       "      <th>ENG</th>\n",
       "      <th>MATH</th>\n",
       "      <th>TOTAL</th>\n",
       "      <th>AVERAGE</th>\n",
       "    </tr>\n",
       "  </thead>\n",
       "  <tbody>\n",
       "    <tr>\n",
       "      <th>홍길동</th>\n",
       "      <td>80</td>\n",
       "      <td>90</td>\n",
       "      <td>80</td>\n",
       "      <td>250</td>\n",
       "      <td>83.333333</td>\n",
       "    </tr>\n",
       "    <tr>\n",
       "      <th>임꺽정</th>\n",
       "      <td>90</td>\n",
       "      <td>80</td>\n",
       "      <td>90</td>\n",
       "      <td>260</td>\n",
       "      <td>86.666667</td>\n",
       "    </tr>\n",
       "  </tbody>\n",
       "</table>\n",
       "</div>"
      ],
      "text/plain": [
       "     KOR  ENG  MATH  TOTAL    AVERAGE\n",
       "홍길동   80   90    80    250  83.333333\n",
       "임꺽정   90   80    90    260  86.666667"
      ]
     },
     "execution_count": 15,
     "metadata": {},
     "output_type": "execute_result"
    }
   ],
   "source": [
    "#불린 연산 결과를 인덱스에 부여\n",
    "scores_df[cond]\n",
    "#== scores_df[scores_df['AVERAGE']>=80]"
   ]
  },
  {
   "cell_type": "code",
   "execution_count": 16,
   "id": "ce0d019f",
   "metadata": {},
   "outputs": [
    {
     "data": {
      "text/html": [
       "<div>\n",
       "<style scoped>\n",
       "    .dataframe tbody tr th:only-of-type {\n",
       "        vertical-align: middle;\n",
       "    }\n",
       "\n",
       "    .dataframe tbody tr th {\n",
       "        vertical-align: top;\n",
       "    }\n",
       "\n",
       "    .dataframe thead th {\n",
       "        text-align: right;\n",
       "    }\n",
       "</style>\n",
       "<table border=\"1\" class=\"dataframe\">\n",
       "  <thead>\n",
       "    <tr style=\"text-align: right;\">\n",
       "      <th></th>\n",
       "      <th>홍길동</th>\n",
       "      <th>175.8</th>\n",
       "      <th>73.2</th>\n",
       "    </tr>\n",
       "  </thead>\n",
       "  <tbody>\n",
       "    <tr>\n",
       "      <th>0</th>\n",
       "      <td>전우치</td>\n",
       "      <td>170.2</td>\n",
       "      <td>66.3</td>\n",
       "    </tr>\n",
       "    <tr>\n",
       "      <th>1</th>\n",
       "      <td>임꺽정</td>\n",
       "      <td>186.7</td>\n",
       "      <td>88.2</td>\n",
       "    </tr>\n",
       "    <tr>\n",
       "      <th>2</th>\n",
       "      <td>장길산</td>\n",
       "      <td>188.3</td>\n",
       "      <td>90.0</td>\n",
       "    </tr>\n",
       "  </tbody>\n",
       "</table>\n",
       "</div>"
      ],
      "text/plain": [
       "   홍길동  175.8  73.2\n",
       "0  전우치  170.2  66.3\n",
       "1  임꺽정  186.7  88.2\n",
       "2  장길산  188.3  90.0"
      ]
     },
     "execution_count": 16,
     "metadata": {},
     "output_type": "execute_result"
    }
   ],
   "source": [
    "#데이터 import and export \n",
    "thieves_df=pd.read_csv('./data/thieves.txt',sep='\\t')\n",
    "thieves_df \n",
    "# read_csv는 기본적으로 첫번째 행을 컬럼명으로 활용"
   ]
  },
  {
   "cell_type": "code",
   "execution_count": 17,
   "id": "17e89faa",
   "metadata": {},
   "outputs": [
    {
     "data": {
      "text/html": [
       "<div>\n",
       "<style scoped>\n",
       "    .dataframe tbody tr th:only-of-type {\n",
       "        vertical-align: middle;\n",
       "    }\n",
       "\n",
       "    .dataframe tbody tr th {\n",
       "        vertical-align: top;\n",
       "    }\n",
       "\n",
       "    .dataframe thead th {\n",
       "        text-align: right;\n",
       "    }\n",
       "</style>\n",
       "<table border=\"1\" class=\"dataframe\">\n",
       "  <thead>\n",
       "    <tr style=\"text-align: right;\">\n",
       "      <th></th>\n",
       "      <th>0</th>\n",
       "      <th>1</th>\n",
       "      <th>2</th>\n",
       "    </tr>\n",
       "  </thead>\n",
       "  <tbody>\n",
       "    <tr>\n",
       "      <th>0</th>\n",
       "      <td>홍길동</td>\n",
       "      <td>175.8</td>\n",
       "      <td>73.2</td>\n",
       "    </tr>\n",
       "    <tr>\n",
       "      <th>1</th>\n",
       "      <td>전우치</td>\n",
       "      <td>170.2</td>\n",
       "      <td>66.3</td>\n",
       "    </tr>\n",
       "    <tr>\n",
       "      <th>2</th>\n",
       "      <td>임꺽정</td>\n",
       "      <td>186.7</td>\n",
       "      <td>88.2</td>\n",
       "    </tr>\n",
       "    <tr>\n",
       "      <th>3</th>\n",
       "      <td>장길산</td>\n",
       "      <td>188.3</td>\n",
       "      <td>90.0</td>\n",
       "    </tr>\n",
       "  </tbody>\n",
       "</table>\n",
       "</div>"
      ],
      "text/plain": [
       "     0      1     2\n",
       "0  홍길동  175.8  73.2\n",
       "1  전우치  170.2  66.3\n",
       "2  임꺽정  186.7  88.2\n",
       "3  장길산  188.3  90.0"
      ]
     },
     "execution_count": 17,
     "metadata": {},
     "output_type": "execute_result"
    }
   ],
   "source": [
    "# 첫번째 행이 컬럼이 아닐 경우 배제해줘야 함 \n",
    "thieves_df2=pd.read_csv(\"./data/thieves.txt\",sep='\\t',header=None) #첫번째 행을 header로 사용하지 않음 \n",
    "thieves_df2"
   ]
  },
  {
   "cell_type": "code",
   "execution_count": 18,
   "id": "6fceb476",
   "metadata": {},
   "outputs": [
    {
     "data": {
      "text/html": [
       "<div>\n",
       "<style scoped>\n",
       "    .dataframe tbody tr th:only-of-type {\n",
       "        vertical-align: middle;\n",
       "    }\n",
       "\n",
       "    .dataframe tbody tr th {\n",
       "        vertical-align: top;\n",
       "    }\n",
       "\n",
       "    .dataframe thead th {\n",
       "        text-align: right;\n",
       "    }\n",
       "</style>\n",
       "<table border=\"1\" class=\"dataframe\">\n",
       "  <thead>\n",
       "    <tr style=\"text-align: right;\">\n",
       "      <th></th>\n",
       "      <th>1</th>\n",
       "      <th>2</th>\n",
       "    </tr>\n",
       "    <tr>\n",
       "      <th>0</th>\n",
       "      <th></th>\n",
       "      <th></th>\n",
       "    </tr>\n",
       "  </thead>\n",
       "  <tbody>\n",
       "    <tr>\n",
       "      <th>홍길동</th>\n",
       "      <td>175.8</td>\n",
       "      <td>73.2</td>\n",
       "    </tr>\n",
       "    <tr>\n",
       "      <th>전우치</th>\n",
       "      <td>170.2</td>\n",
       "      <td>66.3</td>\n",
       "    </tr>\n",
       "    <tr>\n",
       "      <th>임꺽정</th>\n",
       "      <td>186.7</td>\n",
       "      <td>88.2</td>\n",
       "    </tr>\n",
       "    <tr>\n",
       "      <th>장길산</th>\n",
       "      <td>188.3</td>\n",
       "      <td>90.0</td>\n",
       "    </tr>\n",
       "  </tbody>\n",
       "</table>\n",
       "</div>"
      ],
      "text/plain": [
       "         1     2\n",
       "0               \n",
       "홍길동  175.8  73.2\n",
       "전우치  170.2  66.3\n",
       "임꺽정  186.7  88.2\n",
       "장길산  188.3  90.0"
      ]
     },
     "execution_count": 18,
     "metadata": {},
     "output_type": "execute_result"
    }
   ],
   "source": [
    "# 특정열을 인덱스로 사용하고자 할 경우: index_col\n",
    "thieves_df3=pd.read_csv('./data/thieves.txt', sep ='\\t', header=None, index_col=0)\n",
    "thieves_df3"
   ]
  },
  {
   "cell_type": "code",
   "execution_count": 19,
   "id": "af8718d9",
   "metadata": {},
   "outputs": [
    {
     "name": "stdout",
     "output_type": "stream",
     "text": [
      "Int64Index([1, 2], dtype='int64')\n"
     ]
    },
    {
     "data": {
      "text/html": [
       "<div>\n",
       "<style scoped>\n",
       "    .dataframe tbody tr th:only-of-type {\n",
       "        vertical-align: middle;\n",
       "    }\n",
       "\n",
       "    .dataframe tbody tr th {\n",
       "        vertical-align: top;\n",
       "    }\n",
       "\n",
       "    .dataframe thead th {\n",
       "        text-align: right;\n",
       "    }\n",
       "</style>\n",
       "<table border=\"1\" class=\"dataframe\">\n",
       "  <thead>\n",
       "    <tr style=\"text-align: right;\">\n",
       "      <th></th>\n",
       "      <th>Height</th>\n",
       "      <th>Weight</th>\n",
       "    </tr>\n",
       "    <tr>\n",
       "      <th>0</th>\n",
       "      <th></th>\n",
       "      <th></th>\n",
       "    </tr>\n",
       "  </thead>\n",
       "  <tbody>\n",
       "    <tr>\n",
       "      <th>홍길동</th>\n",
       "      <td>175.8</td>\n",
       "      <td>73.2</td>\n",
       "    </tr>\n",
       "    <tr>\n",
       "      <th>전우치</th>\n",
       "      <td>170.2</td>\n",
       "      <td>66.3</td>\n",
       "    </tr>\n",
       "    <tr>\n",
       "      <th>임꺽정</th>\n",
       "      <td>186.7</td>\n",
       "      <td>88.2</td>\n",
       "    </tr>\n",
       "    <tr>\n",
       "      <th>장길산</th>\n",
       "      <td>188.3</td>\n",
       "      <td>90.0</td>\n",
       "    </tr>\n",
       "  </tbody>\n",
       "</table>\n",
       "</div>"
      ],
      "text/plain": [
       "     Height  Weight\n",
       "0                  \n",
       "홍길동   175.8    73.2\n",
       "전우치   170.2    66.3\n",
       "임꺽정   186.7    88.2\n",
       "장길산   188.3    90.0"
      ]
     },
     "execution_count": 19,
     "metadata": {},
     "output_type": "execute_result"
    }
   ],
   "source": [
    "# column의 확인 \n",
    "print(thieves_df3.columns)\n",
    "thieves_df3.columns=['Height','Weight']\n",
    "thieves_df3"
   ]
  },
  {
   "cell_type": "code",
   "execution_count": 20,
   "id": "f5fe98c7",
   "metadata": {},
   "outputs": [
    {
     "name": "stdout",
     "output_type": "stream",
     "text": [
      "0\n"
     ]
    },
    {
     "data": {
      "text/html": [
       "<div>\n",
       "<style scoped>\n",
       "    .dataframe tbody tr th:only-of-type {\n",
       "        vertical-align: middle;\n",
       "    }\n",
       "\n",
       "    .dataframe tbody tr th {\n",
       "        vertical-align: top;\n",
       "    }\n",
       "\n",
       "    .dataframe thead th {\n",
       "        text-align: right;\n",
       "    }\n",
       "</style>\n",
       "<table border=\"1\" class=\"dataframe\">\n",
       "  <thead>\n",
       "    <tr style=\"text-align: right;\">\n",
       "      <th></th>\n",
       "      <th>Height</th>\n",
       "      <th>Weight</th>\n",
       "    </tr>\n",
       "    <tr>\n",
       "      <th>Name</th>\n",
       "      <th></th>\n",
       "      <th></th>\n",
       "    </tr>\n",
       "  </thead>\n",
       "  <tbody>\n",
       "    <tr>\n",
       "      <th>홍길동</th>\n",
       "      <td>175.8</td>\n",
       "      <td>73.2</td>\n",
       "    </tr>\n",
       "    <tr>\n",
       "      <th>전우치</th>\n",
       "      <td>170.2</td>\n",
       "      <td>66.3</td>\n",
       "    </tr>\n",
       "    <tr>\n",
       "      <th>임꺽정</th>\n",
       "      <td>186.7</td>\n",
       "      <td>88.2</td>\n",
       "    </tr>\n",
       "    <tr>\n",
       "      <th>장길산</th>\n",
       "      <td>188.3</td>\n",
       "      <td>90.0</td>\n",
       "    </tr>\n",
       "  </tbody>\n",
       "</table>\n",
       "</div>"
      ],
      "text/plain": [
       "      Height  Weight\n",
       "Name                \n",
       "홍길동    175.8    73.2\n",
       "전우치    170.2    66.3\n",
       "임꺽정    186.7    88.2\n",
       "장길산    188.3    90.0"
      ]
     },
     "execution_count": 20,
     "metadata": {},
     "output_type": "execute_result"
    }
   ],
   "source": [
    "#index 이름의 확인\n",
    "print(thieves_df3.index.name)\n",
    "thieves_df3.index.name='Name'\n",
    "thieves_df3"
   ]
  },
  {
   "cell_type": "code",
   "execution_count": 21,
   "id": "6b5a48ab",
   "metadata": {},
   "outputs": [],
   "source": [
    "# DataFrame을 csv로 변환 저장: to_csv\n",
    "thieves_df3.to_csv(\"./data/thieves.csv\")"
   ]
  },
  {
   "cell_type": "code",
   "execution_count": 22,
   "id": "83991fe0",
   "metadata": {},
   "outputs": [],
   "source": [
    "thieves_df3.to_csv('./data/thieves2.csv',encoding =\"MS949\")\n",
    "# jupyter notebook안에서는 encoding후에는 내용확인이 불가능하지만 실제 디렉터리 안에서 내용확인이 가능함 "
   ]
  }
 ],
 "metadata": {
  "kernelspec": {
   "display_name": "Python 3",
   "language": "python",
   "name": "python3"
  },
  "language_info": {
   "codemirror_mode": {
    "name": "ipython",
    "version": 3
   },
   "file_extension": ".py",
   "mimetype": "text/x-python",
   "name": "python",
   "nbconvert_exporter": "python",
   "pygments_lexer": "ipython3",
   "version": "3.9.5"
  }
 },
 "nbformat": 4,
 "nbformat_minor": 5
}
