{
 "cells": [
  {
   "cell_type": "code",
   "execution_count": 1,
   "id": "60f4dd76",
   "metadata": {},
   "outputs": [],
   "source": [
    "# 파이썬 정규 표현식\n",
    "\n",
    "#module import \n",
    "import re"
   ]
  },
  {
   "cell_type": "code",
   "execution_count": 8,
   "id": "3a49563a",
   "metadata": {},
   "outputs": [
    {
     "name": "stdout",
     "output_type": "stream",
     "text": [
      "None\n",
      "<re.Match object; span=(0, 4), match='Life'>\n",
      "<re.Match object; span=(0, 4), match='Life'>\n",
      "Life\n"
     ]
    }
   ],
   "source": [
    "# 사용 방법\n",
    "#1. 패턴 컴파일 후에 사용 \n",
    "#2. 패턴 객체가 가진 메서드를 이용해서 작업을 수행 \n",
    "source = \"Life is too short, you need Python\"\n",
    "\n",
    "#방법 1. 패턴 컴파일 후에 매칭\n",
    "p=re.compile(r\"P[a-z]+\") #P로 시작하고 소문자가 1개 이상인 패턴 매칭\n",
    "print (p.match(source)) #match -> 처음부터 일치해야 해서 ; None\n",
    "\n",
    "p=re.compile(r\"L[a-z]+\") #L로 시작하고 소문자가 1개 이상인 패턴 매칭\n",
    "print (p.match(source))\n",
    "\n",
    "#방법 2. 축약형: 컴파일 없이 1회성 즉시 매칭 \n",
    "print(re.match(r\"[A-Za-z]+\",source)) #대문자 혹은 소문자 1문자 이상 패턴 매칭\n",
    "\n",
    "#매칭된 내용을 추출할 때 -> group()메서드 이용\n",
    "print(re.match(r\"[A-Za-z]+\",source).group())"
   ]
  },
  {
   "cell_type": "code",
   "execution_count": 14,
   "id": "1b93543a",
   "metadata": {},
   "outputs": [
    {
     "name": "stdout",
     "output_type": "stream",
     "text": [
      "<re.Match object; span=(0, 5), match='Hello'>\n",
      "None\n",
      "<re.Match object; span=(7, 13), match='Python'>\n",
      "None\n",
      "<re.Match object; span=(7, 13), match='Python'>\n"
     ]
    }
   ],
   "source": [
    "#특정 문자열이 포함되어 있는지 판별\n",
    "source = \"Hello, Python\"\n",
    "print(re.match(\"Hello\",source))\n",
    "print(re.match(\"Python\",source))\n",
    "#match 메서드는 처음부터 일치해야 match , sonst None\n",
    "\n",
    "print(re.search(\"Python\",source))\n",
    "#search 메서드는 전체를 대상으로 매칭작업을 수행함 \n",
    "\n",
    "print(re.search(\"python\",source))\n",
    "#기본적으로 정규표현식은 대,소문자를 구분함 d.h. None\n",
    "#대소문자 구분없이 매칭을 시도하려고 한다면, -> re.IGNORECASE or re.i옵션 사용해야 함 \n",
    "\n",
    "print(re.search(\"python\",source, re.IGNORECASE)) #대소문자 구분없이 매칭\n"
   ]
  },
  {
   "cell_type": "code",
   "execution_count": 18,
   "id": "6ca8f599",
   "metadata": {},
   "outputs": [
    {
     "name": "stdout",
     "output_type": "stream",
     "text": [
      "['Paint', 'Perl', 'Python', 'P123']\n",
      "['Paint', 'Perl', 'Python', 'P123']\n",
      "<re.Match object; span=(0, 5), match='Paint'> Paint\n",
      "<re.Match object; span=(27, 31), match='Perl'> Perl\n",
      "<re.Match object; span=(37, 43), match='Python'> Python\n",
      "<re.Match object; span=(44, 48), match='P123'> P123\n"
     ]
    }
   ],
   "source": [
    "# findall, finditer\n",
    "source= \"Paint C JavaScript 123 456 Perl Java Python P123 Ruby\"\n",
    "\n",
    "#p로 시작되는 문자열 검색해서 출력하기\n",
    "#findall: 매칭된 모든 문자열을 list로 반환\n",
    "# item=re.findall(r\"p[A-Za-z0-9]+\",source, re.IGNORECASE)\n",
    "item=re.findall(r\"\\bp[A-Za-z0-9]+\",source, re.IGNORECASE)\n",
    "item2=re.findall(r\"\\bp\\w+\",source,re.IGNORECASE) #\\w == [A-Za-z0-9]\n",
    "print(item)\n",
    "print(item2)\n",
    "\n",
    "#finditer: 매칭영역을 iterator로 반환 \n",
    "iter=re.finditer(r\"\\bp\\w+\",source, re.IGNORECASE)\n",
    "for item in iter: \n",
    "    print(item,item.group())"
   ]
  }
 ],
 "metadata": {
  "kernelspec": {
   "display_name": "Python 3",
   "language": "python",
   "name": "python3"
  },
  "language_info": {
   "codemirror_mode": {
    "name": "ipython",
    "version": 3
   },
   "file_extension": ".py",
   "mimetype": "text/x-python",
   "name": "python",
   "nbconvert_exporter": "python",
   "pygments_lexer": "ipython3",
   "version": "3.9.5"
  }
 },
 "nbformat": 4,
 "nbformat_minor": 5
}
