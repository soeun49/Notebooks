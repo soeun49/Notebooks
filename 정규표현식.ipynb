{
 "cells": [
  {
   "cell_type": "code",
   "execution_count": 1,
   "id": "568ce844",
   "metadata": {},
   "outputs": [],
   "source": [
    "# 파이썬 정규 표현식\n",
    "\n",
    "#module import \n",
    "import re"
   ]
  },
  {
   "cell_type": "code",
   "execution_count": 2,
   "id": "dc14df55",
   "metadata": {},
   "outputs": [
    {
     "name": "stdout",
     "output_type": "stream",
     "text": [
      "None\n",
      "<re.Match object; span=(0, 4), match='Life'>\n",
      "<re.Match object; span=(0, 4), match='Life'>\n",
      "Life\n"
     ]
    }
   ],
   "source": [
    "# 사용 방법\n",
    "#1. 패턴 컴파일 후에 사용 \n",
    "#2. 패턴 객체가 가진 메서드를 이용해서 작업을 수행 \n",
    "source = \"Life is too short, you need Python\"\n",
    "\n",
    "#방법 1. 패턴 컴파일 후에 매칭\n",
    "p=re.compile(r\"P[a-z]+\") #P로 시작하고 소문자가 1개 이상인 패턴 매칭\n",
    "print (p.match(source)) #match -> 처음부터 일치해야 해서 ; None\n",
    "\n",
    "p=re.compile(r\"L[a-z]+\") #L로 시작하고 소문자가 1개 이상인 패턴 매칭\n",
    "print (p.match(source))\n",
    "\n",
    "#방법 2. 축약형: 컴파일 없이 1회성 즉시 매칭 \n",
    "print(re.match(r\"[A-Za-z]+\",source)) #대문자 혹은 소문자 1문자 이상 패턴 매칭\n",
    "\n",
    "#매칭된 내용을 추출할 때 -> group()메서드 이용\n",
    "print(re.match(r\"[A-Za-z]+\",source).group())"
   ]
  },
  {
   "cell_type": "code",
   "execution_count": 3,
   "id": "a40d1f86",
   "metadata": {},
   "outputs": [
    {
     "name": "stdout",
     "output_type": "stream",
     "text": [
      "<re.Match object; span=(0, 5), match='Hello'>\n",
      "None\n",
      "<re.Match object; span=(7, 13), match='Python'>\n",
      "None\n",
      "<re.Match object; span=(7, 13), match='Python'>\n"
     ]
    }
   ],
   "source": [
    "#특정 문자열이 포함되어 있는지 판별\n",
    "source = \"Hello, Python\"\n",
    "print(re.match(\"Hello\",source))\n",
    "print(re.match(\"Python\",source))\n",
    "#match 메서드는 처음부터 일치해야 match , sonst None\n",
    "\n",
    "print(re.search(\"Python\",source))\n",
    "#search 메서드는 전체를 대상으로 매칭작업을 수행함 \n",
    "\n",
    "print(re.search(\"python\",source))\n",
    "#기본적으로 정규표현식은 대,소문자를 구분함 d.h. None\n",
    "#대소문자 구분없이 매칭을 시도하려고 한다면, -> re.IGNORECASE or re.i옵션 사용해야 함 \n",
    "\n",
    "print(re.search(\"python\",source, re.IGNORECASE)) #대소문자 구분없이 매칭\n"
   ]
  },
  {
   "cell_type": "code",
   "execution_count": 4,
   "id": "4537a536",
   "metadata": {},
   "outputs": [
    {
     "name": "stdout",
     "output_type": "stream",
     "text": [
      "['Paint', 'Perl', 'Python', 'P123']\n",
      "['Paint', 'Perl', 'Python', 'P123']\n",
      "<re.Match object; span=(0, 5), match='Paint'> Paint\n",
      "<re.Match object; span=(27, 31), match='Perl'> Perl\n",
      "<re.Match object; span=(37, 43), match='Python'> Python\n",
      "<re.Match object; span=(44, 48), match='P123'> P123\n"
     ]
    }
   ],
   "source": [
    "# findall, finditer\n",
    "source= \"Paint C JavaScript 123 456 Perl Java Python P123 Ruby\"\n",
    "\n",
    "#p로 시작되는 문자열 검색해서 출력하기\n",
    "#findall: 매칭된 모든 문자열을 list로 반환\n",
    "# item=re.findall(r\"p[A-Za-z0-9]+\",source, re.IGNORECASE)\n",
    "item=re.findall(r\"\\bp[A-Za-z0-9]+\",source, re.IGNORECASE)\n",
    "item2=re.findall(r\"\\bp\\w+\",source,re.IGNORECASE) #\\w == [A-Za-z0-9]\n",
    "print(item)\n",
    "print(item2)\n",
    "\n",
    "#finditer: 매칭영역을 iterator로 반환 \n",
    "iter=re.finditer(r\"\\bp\\w+\",source, re.IGNORECASE)\n",
    "for item in iter: \n",
    "    print(item,item.group())"
   ]
  },
  {
   "cell_type": "code",
   "execution_count": 5,
   "id": "f0d264d4",
   "metadata": {},
   "outputs": [
    {
     "name": "stdout",
     "output_type": "stream",
     "text": [
      "tel: <re.Match object; span=(1, 14), match='010-1234-5678'> 010-1234-5678\n",
      "tel: <re.Match object; span=(19, 32), match='032-9876-5432'> 032-9876-5432\n",
      "tel: <re.Match object; span=(37, 49), match='02-4567-8901'> 02-4567-8901\n",
      "tel2: {'area': '010', 'exchange': '1234', 'number': '5678'}\n",
      "tel2: {'area': '032', 'exchange': '9876', 'number': '5432'}\n",
      "tel2: {'area': '02', 'exchange': '4567', 'number': '8901'}\n"
     ]
    }
   ],
   "source": [
    "#예제\n",
    "#전화번호\n",
    "source=\"\"\"\n",
    "010-1234-5678 홍길동\n",
    "032-9876-5432 고길동\n",
    "02-4567-8901 장길산\n",
    "\"\"\"\n",
    "\n",
    "pattern=re.compile(r\"\\d{2,3}-\\d{3,4}-\\d{4}\")\n",
    "\n",
    "iter= pattern.finditer(source)\n",
    "for tel in iter: \n",
    "    print(\"tel:\",tel, tel.group())\n",
    "    \n",
    "#패턴 작성시, (?P<이름>) 형식을 이용하면 매칭 결과에 이름을 부여할 수 있음 \n",
    "#이름이 부여된 매칭 결과는 groupdict() 메서드로 확인 가능함 -> 사전형태로 반환 \n",
    "\n",
    "pattern=re.compile(r\"(?P<area>\\d{2,3})-(?P<exchange>\\d{3,4})-(?P<number>\\d{4})\")\n",
    "iter=pattern.finditer(source)\n",
    "for tel in iter: \n",
    "    print(\"tel2:\",tel.groupdict())\n",
    "    \n",
    "                   \n",
    "    "
   ]
  },
  {
   "cell_type": "code",
   "execution_count": 6,
   "id": "49ecfbe7",
   "metadata": {},
   "outputs": [
    {
     "name": "stdout",
     "output_type": "stream",
     "text": [
      "hong@hwalbin.org\n",
      "jang@thieves.net\n",
      "gildong@dooly.net\n",
      "skyun.nam@gmail.com\n"
     ]
    }
   ],
   "source": [
    "#예제 2\n",
    "#이메일\n",
    "source =\"\"\"\n",
    "홍길동 hong@hwalbin.org\n",
    "장길산 jang@thieves.net\n",
    "고길동 gildong@dooly.net\n",
    "남승균 skyun.nam@gmail.com\n",
    "\"\"\"\n",
    "\n",
    "#이메일만 추출하기\n",
    "\n",
    "pattern=re.compile(r\"\\w+[\\w\\.]*@\\w+\\.[a-z]+\")\n",
    "iter=pattern.finditer(source)\n",
    "\n",
    "for email in iter:\n",
    "    print(email.group())"
   ]
  },
  {
   "cell_type": "code",
   "execution_count": null,
   "id": "4f309942",
   "metadata": {},
   "outputs": [],
   "source": [
    "#웹사이트 패턴형식\n",
    "# http[s]?://(?:[a-zA-Z]|[0-9]|[$-_@.&+]|[!*\\(\\),]|(?:%[0-9a-fA-F][0-9a-fA-F]))+"
   ]
  },
  {
   "cell_type": "code",
   "execution_count": 7,
   "id": "ef99720b",
   "metadata": {},
   "outputs": [
    {
     "name": "stdout",
     "output_type": "stream",
     "text": [
      "['대한민국', '홍길동', '장길산']\n"
     ]
    }
   ],
   "source": [
    "#예제 3\n",
    "#한국어 패턴 \n",
    "source=\"English 대한민국 Japan 홍길동 China 장길산\"\n",
    "\n",
    "p= re.compile(r\"[ㄱ-힣]+\") #unicode의 범위\n",
    "\n",
    "print(p.findall(source))\n"
   ]
  },
  {
   "cell_type": "code",
   "execution_count": 12,
   "id": "0bf22299",
   "metadata": {},
   "outputs": [
    {
     "name": "stdout",
     "output_type": "stream",
     "text": [
      "Pattern Split: ['사과', '오렌지', '바나나', '토마토', '수박']\n",
      "Pattern Sub: 사과 - 오렌지 - 바나나 - 토마토 - 수박\n"
     ]
    }
   ],
   "source": [
    "#예제4\n",
    "#split: 단순 문자열이 아닌 패턴을 이용해서 문자열을 분할\n",
    "source= \"사과 오렌지:바나나,토마토|수박\"\n",
    "pattern= r\"[ :,|]\"\n",
    "print(\"Pattern Split:\", re.split(pattern, source))\n",
    "\n",
    "#sub: 단순문자열이 아닌 패턴 매칭을 이용한 변경 \n",
    "print(\"Pattern Sub:\",re.sub (pattern, \" - \", source)) \n",
    "#패턴 매칭후 -> -변경"
   ]
  }
 ],
 "metadata": {
  "kernelspec": {
   "display_name": "Python 3",
   "language": "python",
   "name": "python3"
  },
  "language_info": {
   "codemirror_mode": {
    "name": "ipython",
    "version": 3
   },
   "file_extension": ".py",
   "mimetype": "text/x-python",
   "name": "python",
   "nbconvert_exporter": "python",
   "pygments_lexer": "ipython3",
   "version": "3.9.5"
  }
 },
 "nbformat": 4,
 "nbformat_minor": 5
}
